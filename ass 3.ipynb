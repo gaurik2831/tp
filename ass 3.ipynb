{
 "cells": [
  {
   "cell_type": "code",
   "execution_count": 1,
   "id": "a876d32b",
   "metadata": {},
   "outputs": [],
   "source": [
    "#Q1\n",
    "import pandas as pd\n",
    "import statistics\n",
    "import numpy as np\n",
    "import scipy.stats\n",
    "import math"
   ]
  },
  {
   "cell_type": "code",
   "execution_count": 8,
   "id": "00e24f17",
   "metadata": {},
   "outputs": [],
   "source": [
    "df=pd.read_csv(\"Downloads\\Age-Income-Dataset - Sheet1.csv\")"
   ]
  },
  {
   "cell_type": "code",
   "execution_count": 9,
   "id": "2fcd64d6",
   "metadata": {},
   "outputs": [
    {
     "name": "stdout",
     "output_type": "stream",
     "text": [
      "mean of income :  50966.0\n"
     ]
    }
   ],
   "source": [
    "# Mean by formula\n",
    "mean_income = sum(df.Income)/len(df.Income)\n",
    "print(\"mean of income : \",mean_income)"
   ]
  },
  {
   "cell_type": "code",
   "execution_count": 10,
   "id": "094e2202",
   "metadata": {},
   "outputs": [
    {
     "name": "stdout",
     "output_type": "stream",
     "text": [
      "mean of income :  50966\n"
     ]
    }
   ],
   "source": [
    "# Mean using laibrary function\n",
    "mean_income = statistics.mean(df.Income)\n",
    "print(\"mean of income : \",mean_income)"
   ]
  },
  {
   "cell_type": "code",
   "execution_count": 18,
   "id": "246391e4",
   "metadata": {},
   "outputs": [
    {
     "name": "stdout",
     "output_type": "stream",
     "text": [
      "46850.0\n"
     ]
    }
   ],
   "source": [
    "# Median by formula\n",
    "n = len(df['Income'])\n",
    "if n % 2:\n",
    "    income_median = sorted(df['Income'])[round(0.5*(n-1))]\n",
    "else:\n",
    "    x_ord, index = sorted(df['Income']), round(0.5 * n)\n",
    "    income_median = 0.5 * (x_ord[index-1] + x_ord[index])\n",
    "\n",
    "print(income_median)\n"
   ]
  },
  {
   "cell_type": "code",
   "execution_count": 19,
   "id": "11653e30",
   "metadata": {},
   "outputs": [
    {
     "name": "stdout",
     "output_type": "stream",
     "text": [
      "Income median is 46850.0\n"
     ]
    }
   ],
   "source": [
    "#Median using laibrary function\n",
    "income_median = statistics.median(df['Income'])\n",
    "print('Income median is {0}'.format(income_median) )"
   ]
  },
  {
   "cell_type": "code",
   "execution_count": 21,
   "id": "573e14be",
   "metadata": {},
   "outputs": [
    {
     "name": "stdout",
     "output_type": "stream",
     "text": [
      "45000\n"
     ]
    }
   ],
   "source": [
    "# mode without any library\n",
    "income_mode = statistics.mode(df['Income'])\n",
    "print(income_mode)"
   ]
  },
  {
   "cell_type": "code",
   "execution_count": 24,
   "id": "8ae0e905",
   "metadata": {},
   "outputs": [
    {
     "name": "stdout",
     "output_type": "stream",
     "text": [
      "45000\n"
     ]
    }
   ],
   "source": [
    "#Mode using laibrary function\n",
    "income_mode = statistics.mode(df['Income'])\n",
    "print(income_mode)"
   ]
  },
  {
   "cell_type": "code",
   "execution_count": 25,
   "id": "09526682",
   "metadata": {},
   "outputs": [
    {
     "name": "stdout",
     "output_type": "stream",
     "text": [
      "445070044.8979592\n"
     ]
    }
   ],
   "source": [
    "# Variance using Formula\n",
    "n = len(df['Income'])\n",
    "income_mean = sum(df['Income']) / n\n",
    "income_var = sum((item - income_mean)**2 for item in df['Income']) / (n - 1)\n",
    "print(income_var)"
   ]
  },
  {
   "cell_type": "code",
   "execution_count": 26,
   "id": "e8ac596c",
   "metadata": {},
   "outputs": [
    {
     "name": "stdout",
     "output_type": "stream",
     "text": [
      "445070044.8979592\n"
     ]
    }
   ],
   "source": [
    "# Finding Variance using Libraries\n",
    "income_var = statistics.variance(df['Income'])\n",
    "print(income_var)"
   ]
  },
  {
   "cell_type": "code",
   "execution_count": 28,
   "id": "0e6fc84c",
   "metadata": {},
   "outputs": [
    {
     "name": "stdout",
     "output_type": "stream",
     "text": [
      "21096.683267707253\n"
     ]
    }
   ],
   "source": [
    "# Standard Deviation using Formula\n",
    "income_sd = income_var**0.5\n",
    "print(income_sd)"
   ]
  },
  {
   "cell_type": "code",
   "execution_count": 29,
   "id": "460ae07b",
   "metadata": {},
   "outputs": [
    {
     "name": "stdout",
     "output_type": "stream",
     "text": [
      "21096.683267707253\n"
     ]
    }
   ],
   "source": [
    "# Standard Deviation using laibrary\n",
    "income_sdp = statistics.stdev(df.Income)\n",
    "print(income_sdp)"
   ]
  },
  {
   "cell_type": "code",
   "execution_count": 35,
   "id": "7b56f473",
   "metadata": {},
   "outputs": [
    {
     "data": {
      "text/plain": [
       "0.3896340114677523"
      ]
     },
     "execution_count": 35,
     "metadata": {},
     "output_type": "execute_result"
    }
   ],
   "source": [
    "# Skewness using formula \n",
    "n = len(df['Income'])\n",
    "income_mean = sum(df['Income']) / n\n",
    "income_var = sum((item - income_mean)**2 for item in df['Income']) / (n - 1)\n",
    "income_std = income_var ** 0.5\n",
    "income_skew = (sum((item - income_mean)**3 for item in df['Income'])* n / ((n - 1) * (n - 2) * income_std**3))\n",
    "income_skew"
   ]
  },
  {
   "cell_type": "code",
   "execution_count": 37,
   "id": "608b15ee",
   "metadata": {},
   "outputs": [
    {
     "name": "stdout",
     "output_type": "stream",
     "text": [
      "0.38963401146775223\n"
     ]
    }
   ],
   "source": [
    "# Skewness using Libraries\n",
    "income_skew=df['Income'].skew()\n",
    "print(income_skew)"
   ]
  },
  {
   "cell_type": "code",
   "execution_count": 38,
   "id": "b5aa10a2",
   "metadata": {},
   "outputs": [
    {
     "name": "stdout",
     "output_type": "stream",
     "text": [
      "This distribution has skew 0.38963401146775223\n",
      "This distribution has kurtosis -0.8429291874944673\n"
     ]
    },
    {
     "data": {
      "image/png": "[encoded data removed]",
      "text/plain": [
       "<Figure size 432x288 with 1 Axes>"
      ]
     },
     "metadata": {
      "needs_background": "light"
     },
     "output_type": "display_data"
    }
   ],
   "source": [
    "norm = df['Income']\n",
    "norm.plot(kind = 'density')\n",
    "print('This distribution has skew', norm.skew())\n",
    "print('This distribution has kurtosis', norm.kurt())"
   ]
  },
  {
   "cell_type": "code",
   "execution_count": 39,
   "id": "7b9b4f5c",
   "metadata": {},
   "outputs": [
    {
     "name": "stdout",
     "output_type": "stream",
     "text": [
      "Maximum values in icome data column : 93000\n"
     ]
    }
   ],
   "source": [
    "# Maximum and Minimum\n",
    "income_df_max = df.Income.max()\n",
    "print(\"Maximum values in icome data column :\",income_df_max)"
   ]
  },
  {
   "cell_type": "code",
   "execution_count": 40,
   "id": "e90af6d2",
   "metadata": {},
   "outputs": [
    {
     "name": "stdout",
     "output_type": "stream",
     "text": [
      "Maximum values in icome data column : 93000\n"
     ]
    }
   ],
   "source": [
    "# Maximum and Minimum\n",
    "income_df_max = df.Income.max()\n",
    "print(\"Maximum values in icome data column :\",income_df_max)"
   ]
  },
  {
   "cell_type": "code",
   "execution_count": 41,
   "id": "30c3796e",
   "metadata": {},
   "outputs": [
    {
     "data": {
      "text/html": [
       "<div>\n",
       "<style scoped>\n",
       "    .dataframe tbody tr th:only-of-type {\n",
       "        vertical-align: middle;\n",
       "    }\n",
       "\n",
       "    .dataframe tbody tr th {\n",
       "        vertical-align: top;\n",
       "    }\n",
       "\n",
       "    .dataframe thead tr th {\n",
       "        text-align: left;\n",
       "    }\n",
       "\n",
       "    .dataframe thead tr:last-of-type th {\n",
       "        text-align: right;\n",
       "    }\n",
       "</style>\n",
       "<table border=\"1\" class=\"dataframe\">\n",
       "  <thead>\n",
       "    <tr>\n",
       "      <th></th>\n",
       "      <th colspan=\"8\" halign=\"left\">Income</th>\n",
       "    </tr>\n",
       "    <tr>\n",
       "      <th></th>\n",
       "      <th>count</th>\n",
       "      <th>mean</th>\n",
       "      <th>std</th>\n",
       "      <th>min</th>\n",
       "      <th>25%</th>\n",
       "      <th>50%</th>\n",
       "      <th>75%</th>\n",
       "      <th>max</th>\n",
       "    </tr>\n",
       "    <tr>\n",
       "      <th>Age</th>\n",
       "      <th></th>\n",
       "      <th></th>\n",
       "      <th></th>\n",
       "      <th></th>\n",
       "      <th></th>\n",
       "      <th></th>\n",
       "      <th></th>\n",
       "      <th></th>\n",
       "    </tr>\n",
       "  </thead>\n",
       "  <tbody>\n",
       "    <tr>\n",
       "      <th>Middle Age</th>\n",
       "      <td>15.0</td>\n",
       "      <td>52453.333333</td>\n",
       "      <td>20497.800114</td>\n",
       "      <td>25600.0</td>\n",
       "      <td>36900.0</td>\n",
       "      <td>53200.0</td>\n",
       "      <td>61200.0</td>\n",
       "      <td>93000.0</td>\n",
       "    </tr>\n",
       "    <tr>\n",
       "      <th>Old</th>\n",
       "      <td>19.0</td>\n",
       "      <td>53942.105263</td>\n",
       "      <td>20868.165968</td>\n",
       "      <td>24500.0</td>\n",
       "      <td>38700.0</td>\n",
       "      <td>45300.0</td>\n",
       "      <td>71400.0</td>\n",
       "      <td>89700.0</td>\n",
       "    </tr>\n",
       "    <tr>\n",
       "      <th>Young</th>\n",
       "      <td>16.0</td>\n",
       "      <td>46037.500000</td>\n",
       "      <td>22356.859499</td>\n",
       "      <td>15000.0</td>\n",
       "      <td>28750.0</td>\n",
       "      <td>41500.0</td>\n",
       "      <td>65850.0</td>\n",
       "      <td>87000.0</td>\n",
       "    </tr>\n",
       "  </tbody>\n",
       "</table>\n",
       "</div>"
      ],
      "text/plain": [
       "           Income                                                         \\\n",
       "            count          mean           std      min      25%      50%   \n",
       "Age                                                                        \n",
       "Middle Age   15.0  52453.333333  20497.800114  25600.0  36900.0  53200.0   \n",
       "Old          19.0  53942.105263  20868.165968  24500.0  38700.0  45300.0   \n",
       "Young        16.0  46037.500000  22356.859499  15000.0  28750.0  41500.0   \n",
       "\n",
       "                              \n",
       "                75%      max  \n",
       "Age                           \n",
       "Middle Age  61200.0  93000.0  \n",
       "Old         71400.0  89700.0  \n",
       "Young       65850.0  87000.0  "
      ]
     },
     "execution_count": 41,
     "metadata": {},
     "output_type": "execute_result"
    }
   ],
   "source": [
    "# Grouping according to Age and then Describing it\n",
    "df.groupby(df.Age).describe()"
   ]
  },
  {
   "cell_type": "code",
   "execution_count": 104,
   "id": "18718aff",
   "metadata": {},
   "outputs": [
    {
     "data": {
      "text/html": [
       "<div>\n",
       "<style scoped>\n",
       "    .dataframe tbody tr th:only-of-type {\n",
       "        vertical-align: middle;\n",
       "    }\n",
       "\n",
       "    .dataframe tbody tr th {\n",
       "        vertical-align: top;\n",
       "    }\n",
       "\n",
       "    .dataframe thead th {\n",
       "        text-align: right;\n",
       "    }\n",
       "</style>\n",
       "<table border=\"1\" class=\"dataframe\">\n",
       "  <thead>\n",
       "    <tr style=\"text-align: right;\">\n",
       "      <th></th>\n",
       "      <th>Age</th>\n",
       "      <th>Income</th>\n",
       "    </tr>\n",
       "  </thead>\n",
       "  <tbody>\n",
       "    <tr>\n",
       "      <th>0</th>\n",
       "      <td>1</td>\n",
       "      <td>25000</td>\n",
       "    </tr>\n",
       "    <tr>\n",
       "      <th>1</th>\n",
       "      <td>2</td>\n",
       "      <td>54000</td>\n",
       "    </tr>\n",
       "    <tr>\n",
       "      <th>2</th>\n",
       "      <td>3</td>\n",
       "      <td>60000</td>\n",
       "    </tr>\n",
       "    <tr>\n",
       "      <th>3</th>\n",
       "      <td>1</td>\n",
       "      <td>15000</td>\n",
       "    </tr>\n",
       "    <tr>\n",
       "      <th>4</th>\n",
       "      <td>1</td>\n",
       "      <td>45000</td>\n",
       "    </tr>\n",
       "  </tbody>\n",
       "</table>\n",
       "</div>"
      ],
      "text/plain": [
       "   Age  Income\n",
       "0    1   25000\n",
       "1    2   54000\n",
       "2    3   60000\n",
       "3    1   15000\n",
       "4    1   45000"
      ]
     },
     "execution_count": 104,
     "metadata": {},
     "output_type": "execute_result"
    }
   ],
   "source": [
    "df.Age.replace([\"Young\",\"Middle Age\",\"Old\"],[1,2,3], inplace= True)\n",
    "df.head()"
   ]
  },
  {
   "cell_type": "code",
   "execution_count": 43,
   "id": "c90584d5",
   "metadata": {},
   "outputs": [],
   "source": [
    "#Q2\n",
    "iris_df=pd.read_csv(\"Downloads\\Iris - Iris.csv\")"
   ]
  },
  {
   "cell_type": "code",
   "execution_count": 44,
   "id": "d8b482be",
   "metadata": {},
   "outputs": [
    {
     "name": "stdout",
     "output_type": "stream",
     "text": [
      "      Id  SepalLengthCm  SepalWidthCm  PetalLengthCm  PetalWidthCm  \\\n",
      "0      1            5.1           3.5            1.4           0.2   \n",
      "1      2            4.9           3.0            1.4           0.2   \n",
      "2      3            4.7           3.2            1.3           0.2   \n",
      "3      4            4.6           3.1            1.5           0.2   \n",
      "4      5            5.0           3.6            1.4           0.2   \n",
      "..   ...            ...           ...            ...           ...   \n",
      "145  146            6.7           3.0            5.2           2.3   \n",
      "146  147            6.3           2.5            5.0           1.9   \n",
      "147  148            6.5           3.0            5.2           2.0   \n",
      "148  149            6.2           3.4            5.4           2.3   \n",
      "149  150            5.9           3.0            5.1           1.8   \n",
      "\n",
      "            Species  \n",
      "0       Iris-setosa  \n",
      "1       Iris-setosa  \n",
      "2       Iris-setosa  \n",
      "3       Iris-setosa  \n",
      "4       Iris-setosa  \n",
      "..              ...  \n",
      "145  Iris-virginica  \n",
      "146  Iris-virginica  \n",
      "147  Iris-virginica  \n",
      "148  Iris-virginica  \n",
      "149  Iris-virginica  \n",
      "\n",
      "[150 rows x 6 columns]\n"
     ]
    }
   ],
   "source": [
    "print(iris_df)"
   ]
  },
  {
   "cell_type": "code",
   "execution_count": 45,
   "id": "69d46bbc",
   "metadata": {},
   "outputs": [
    {
     "data": {
      "text/plain": [
       "Id               0\n",
       "SepalLengthCm    0\n",
       "SepalWidthCm     0\n",
       "PetalLengthCm    0\n",
       "PetalWidthCm     0\n",
       "Species          0\n",
       "dtype: int64"
      ]
     },
     "execution_count": 45,
     "metadata": {},
     "output_type": "execute_result"
    }
   ],
   "source": [
    "iris_df.isnull().sum()"
   ]
  },
  {
   "cell_type": "code",
   "execution_count": 46,
   "id": "bc36082b",
   "metadata": {},
   "outputs": [],
   "source": [
    "#Write a Python program to display some basic statistical detail\n",
    "# like percentile, mean, standard deviation etc. of the species of ‘Iris-\n",
    "# setosa’, ‘Iris-versicolor’ and ‘Iris-virginica’ of iris.csv dataset."
   ]
  },
  {
   "cell_type": "code",
   "execution_count": 47,
   "id": "ae8d134f",
   "metadata": {},
   "outputs": [
    {
     "name": "stdout",
     "output_type": "stream",
     "text": [
      "Iris-setosa\n",
      "             Id  SepalLengthCm  SepalWidthCm  PetalLengthCm  PetalWidthCm\n",
      "count  50.00000       50.00000     50.000000      50.000000      50.00000\n",
      "mean   25.50000        5.00600      3.418000       1.464000       0.24400\n",
      "std    14.57738        0.35249      0.381024       0.173511       0.10721\n",
      "min     1.00000        4.30000      2.300000       1.000000       0.10000\n",
      "25%    13.25000        4.80000      3.125000       1.400000       0.20000\n",
      "50%    25.50000        5.00000      3.400000       1.500000       0.20000\n",
      "75%    37.75000        5.20000      3.675000       1.575000       0.30000\n",
      "max    50.00000        5.80000      4.400000       1.900000       0.60000\n",
      "\n",
      "Iris-versicolor\n",
      "              Id  SepalLengthCm  SepalWidthCm  PetalLengthCm  PetalWidthCm\n",
      "count   50.00000      50.000000     50.000000      50.000000     50.000000\n",
      "mean    75.50000       5.936000      2.770000       4.260000      1.326000\n",
      "std     14.57738       0.516171      0.313798       0.469911      0.197753\n",
      "min     51.00000       4.900000      2.000000       3.000000      1.000000\n",
      "25%     63.25000       5.600000      2.525000       4.000000      1.200000\n",
      "50%     75.50000       5.900000      2.800000       4.350000      1.300000\n",
      "75%     87.75000       6.300000      3.000000       4.600000      1.500000\n",
      "max    100.00000       7.000000      3.400000       5.100000      1.800000\n",
      "\n",
      "Iris-virginica\n",
      "              Id  SepalLengthCm  SepalWidthCm  PetalLengthCm  PetalWidthCm\n",
      "count   50.00000       50.00000     50.000000      50.000000      50.00000\n",
      "mean   125.50000        6.58800      2.974000       5.552000       2.02600\n",
      "std     14.57738        0.63588      0.322497       0.551895       0.27465\n",
      "min    101.00000        4.90000      2.200000       4.500000       1.40000\n",
      "25%    113.25000        6.22500      2.800000       5.100000       1.80000\n",
      "50%    125.50000        6.50000      3.000000       5.550000       2.00000\n",
      "75%    137.75000        6.90000      3.175000       5.875000       2.30000\n",
      "max    150.00000        7.90000      3.800000       6.900000       2.50000\n"
     ]
    }
   ],
   "source": [
    "print('Iris-setosa')\n",
    "setosa = iris_df['Species'] == 'Iris-setosa'\n",
    "print(iris_df[setosa].describe())\n",
    "print('\\nIris-versicolor')\n",
    "setosa = iris_df['Species'] == 'Iris-versicolor'\n",
    "print(iris_df[setosa].describe())\n",
    "print('\\nIris-virginica')\n",
    "setosa = iris_df['Species'] == 'Iris-virginica'\n",
    "print(iris_df[setosa].describe())"
   ]
  },
  {
   "cell_type": "code",
   "execution_count": null,
   "id": "4c445002",
   "metadata": {},
   "outputs": [],
   "source": [
    "#Calculate the measures of variability. Calculate and provide the\n",
    "#visualization of the Correlation among the variables."
   ]
  },
  {
   "cell_type": "code",
   "execution_count": 85,
   "id": "19a67919",
   "metadata": {},
   "outputs": [],
   "source": [
    "slc_np = np.array(iris_df['SepalLengthCm'])"
   ]
  },
  {
   "cell_type": "code",
   "execution_count": 86,
   "id": "0bcd64b9",
   "metadata": {},
   "outputs": [
    {
     "name": "stdout",
     "output_type": "stream",
     "text": [
      "0.6856935123042506\n"
     ]
    }
   ],
   "source": [
    "# Finding Variance using Libraries\n",
    "# Using Statistics library function\n",
    "setosa1 = statistics.variance(iris_df['SepalLengthCm'])\n",
    "print(setosa1)"
   ]
  },
  {
   "cell_type": "code",
   "execution_count": 87,
   "id": "46e6f2d7",
   "metadata": {},
   "outputs": [
    {
     "name": "stdout",
     "output_type": "stream",
     "text": [
      "0.6856935123042505\n"
     ]
    }
   ],
   "source": [
    "# Using Pandas Library function\n",
    "slc_var=iris_df['SepalLengthCm'].var(ddof=1)\n",
    "print(slc_var)"
   ]
  },
  {
   "cell_type": "code",
   "execution_count": 88,
   "id": "c5960557",
   "metadata": {},
   "outputs": [
    {
     "name": "stdout",
     "output_type": "stream",
     "text": [
      "0.8280661279778629\n"
     ]
    }
   ],
   "source": [
    "# Finding Variance using Libraries\n",
    "# Using Statistics library function\n",
    "slc_std = statistics.stdev(iris_df['SepalLengthCm'])\n",
    "print(slc_std)"
   ]
  },
  {
   "cell_type": "code",
   "execution_count": 89,
   "id": "5b0f5bb1",
   "metadata": {},
   "outputs": [
    {
     "name": "stdout",
     "output_type": "stream",
     "text": [
      "0.828066127977863\n"
     ]
    }
   ],
   "source": [
    "# Using NumPy library function\n",
    "slc_std = np.std(slc_np, ddof=1) #Here the ddof stands for delta degrees of freedom. This parameter allows the proper calculation of 𝑠², with (𝑛 − 1) in the denominator instead of 𝑛.\n",
    "print(slc_std)\n"
   ]
  },
  {
   "cell_type": "code",
   "execution_count": 90,
   "id": "fa9ca416",
   "metadata": {},
   "outputs": [
    {
     "name": "stdout",
     "output_type": "stream",
     "text": [
      "0.828066127977863\n"
     ]
    }
   ],
   "source": [
    "\n",
    "# Using NumPy library function\n",
    "slc_std = np.std(slc_np, ddof=1) #Here the ddof stands for delta degrees of freedom. This parameter allows the proper calculation of 𝑠², with (𝑛 − 1) in the denominator instead of 𝑛.\n",
    "print(slc_std)\n"
   ]
  },
  {
   "cell_type": "code",
   "execution_count": 91,
   "id": "e8b50e77",
   "metadata": {},
   "outputs": [],
   "source": [
    "def covariance(x, y):\n",
    "    # Finding the mean of the series x and y\n",
    "    mean_x = sum(x)/len(x)\n",
    "    mean_y = sum(y)/len(y)\n",
    "    # Subtracting mean from the individual elements\n",
    "    sub_x = [i - mean_x for i in x]\n",
    "    sub_y = [i - mean_y for i in y]\n",
    "    numerator = sum([sub_x[i]*sub_y[i] for i in range(len(sub_x))])\n",
    "    denominator = len(x)-1\n",
    "    cov = numerator/denominator\n",
    "    return cov"
   ]
  },
  {
   "cell_type": "code",
   "execution_count": 92,
   "id": "99cca72f",
   "metadata": {},
   "outputs": [
    {
     "name": "stdout",
     "output_type": "stream",
     "text": [
      "Covariance from the custom function: 1.2736823266219242\n"
     ]
    }
   ],
   "source": [
    "slc=iris_df['SepalLengthCm']\n",
    "plc=iris_df['PetalLengthCm']\n",
    "cov_func = covariance(slc, plc)\n",
    "print(\"Covariance from the custom function:\", cov_func)"
   ]
  },
  {
   "cell_type": "code",
   "execution_count": 93,
   "id": "a2c1b959",
   "metadata": {},
   "outputs": [],
   "source": [
    "# Preparing data for NumPy and Pandas\n",
    "slc_np, plc_np = np.array(slc), np.array(plc)\n",
    "slc_pd, plc_pd = pd.Series(slc_np), pd.Series(plc_np)"
   ]
  },
  {
   "cell_type": "code",
   "execution_count": 94,
   "id": "6dacd4f8",
   "metadata": {},
   "outputs": [
    {
     "data": {
      "text/plain": [
       "1.2736823266219246"
      ]
     },
     "execution_count": 94,
     "metadata": {},
     "output_type": "execute_result"
    }
   ],
   "source": [
    "# Using NumPy function cov\n",
    "cov_matrix = np.cov(slc_np, plc_np)\n",
    "cov_matrix\n",
    "cov_xy = cov_matrix[0, 1]\n",
    "cov_xy"
   ]
  },
  {
   "cell_type": "code",
   "execution_count": 95,
   "id": "9abe3472",
   "metadata": {},
   "outputs": [
    {
     "data": {
      "text/plain": [
       "1.2736823266219246"
      ]
     },
     "execution_count": 95,
     "metadata": {},
     "output_type": "execute_result"
    }
   ],
   "source": [
    "# Using Pandas function cov\n",
    "cov_xy = slc_pd.cov(plc_pd)\n",
    "cov_xy"
   ]
  },
  {
   "cell_type": "code",
   "execution_count": 96,
   "id": "2187d548",
   "metadata": {},
   "outputs": [],
   "source": [
    "# Writing the function for Correlation Coefficient\n",
    "def correlation(x, y):\n",
    "    # Finding the mean of the series x and y\n",
    "    mean_x = sum(x)/float(len(x))\n",
    "    mean_y = sum(y)/float(len(y))\n",
    "    # Subtracting mean from the individual elements\n",
    "    sub_x = [i-mean_x for i in x]\n",
    "    sub_y = [i-mean_y for i in y]\n",
    "    # covariance for x and y\n",
    "    numerator = sum([sub_x[i]*sub_y[i] for i in range(len(sub_x))])\n",
    "    # Standard Deviation of x and y\n",
    "    std_deviation_x = sum([sub_x[i]**2.0 for i in range(len(sub_x))])\n",
    "    std_deviation_y = sum([sub_y[i]**2.0 for i in range(len(sub_y))])\n",
    "    # squaring by 0.5 to find the square root\n",
    "    denominator = (std_deviation_x*std_deviation_y)**0.5 # short but equivalent to (std_deviation_x**0.5) * (std_deviation_y**0.5)\n",
    "    cor = numerator/denominator\n",
    "    return cor"
   ]
  },
  {
   "cell_type": "code",
   "execution_count": 97,
   "id": "7f3d7fb3",
   "metadata": {},
   "outputs": [
    {
     "data": {
      "text/plain": [
       "0.8717541573048719"
      ]
     },
     "execution_count": 97,
     "metadata": {},
     "output_type": "execute_result"
    }
   ],
   "source": [
    "correlation(slc, plc)"
   ]
  },
  {
   "cell_type": "code",
   "execution_count": 98,
   "id": "c2921672",
   "metadata": {},
   "outputs": [
    {
     "name": "stdout",
     "output_type": "stream",
     "text": [
      "(0.8717541573048713, 1.0384540627941062e-47)\n"
     ]
    }
   ],
   "source": [
    "# Using Library functions\n",
    "# Using scipy\n",
    "r = scipy.stats.pearsonr(slc_np, plc_np)\n",
    "print(r)"
   ]
  },
  {
   "cell_type": "code",
   "execution_count": 100,
   "id": "bc3f7b02",
   "metadata": {},
   "outputs": [
    {
     "name": "stdout",
     "output_type": "stream",
     "text": [
      "0.8717541573048718\n"
     ]
    }
   ],
   "source": [
    "# Using NumPy\n",
    "corr_matrix = np.corrcoef(slc_np, plc_np)\n",
    "r = corr_matrix[0, 1]\n",
    "print(r)"
   ]
  },
  {
   "cell_type": "code",
   "execution_count": 101,
   "id": "c9baaae4",
   "metadata": {},
   "outputs": [
    {
     "name": "stdout",
     "output_type": "stream",
     "text": [
      "0.8717541573048718\n"
     ]
    }
   ],
   "source": [
    "# Using Pandas\n",
    "r = slc_pd.corr(plc_pd)\n",
    "print(r)"
   ]
  },
  {
   "cell_type": "code",
   "execution_count": 110,
   "id": "c393b5ff",
   "metadata": {},
   "outputs": [
    {
     "data": {
      "text/plain": [
       "Text(0, 0.5, 'SepalLengthCm')"
      ]
     },
     "execution_count": 110,
     "metadata": {},
     "output_type": "execute_result"
    },
    {
     "data": {
      "image/png": "[encoded data removed]",
      "text/plain": [
       "<Figure size 432x288 with 1 Axes>"
      ]
     },
     "metadata": {
      "needs_background": "light"
     },
     "output_type": "display_data"
    }
   ],
   "source": [
    "import seaborn as sns\n",
    "ax=sns.scatterplot(x=\"PetalLengthCm\", y=\"SepalLengthCm\", data=iris_df);\n",
    "ax.set_title(\"PetalLengthCm vs. SepalLengthCm\")\n",
    "ax.set_xlabel(\"PetalLengthCm\");\n",
    "ax.set_ylabel(\"SepalLengthCm\")"
   ]
  },
  {
   "cell_type": "code",
   "execution_count": 111,
   "id": "15181195",
   "metadata": {},
   "outputs": [
    {
     "data": {
      "image/png": "[encoded data removed]",
      "text/plain": [
       "<Figure size 360x360 with 1 Axes>"
      ]
     },
     "metadata": {
      "needs_background": "light"
     },
     "output_type": "display_data"
    }
   ],
   "source": [
    "#Adding Third Dimension\n",
    "sns.lmplot(x=\"PetalLengthCm\", y=\"SepalLengthCm\", data=iris_df);"
   ]
  },
  {
   "cell_type": "code",
   "execution_count": 113,
   "id": "1728be37",
   "metadata": {},
   "outputs": [
    {
     "data": {
      "text/html": [
       "<div>\n",
       "<style scoped>\n",
       "    .dataframe tbody tr th:only-of-type {\n",
       "        vertical-align: middle;\n",
       "    }\n",
       "\n",
       "    .dataframe tbody tr th {\n",
       "        vertical-align: top;\n",
       "    }\n",
       "\n",
       "    .dataframe thead th {\n",
       "        text-align: right;\n",
       "    }\n",
       "</style>\n",
       "<table border=\"1\" class=\"dataframe\">\n",
       "  <thead>\n",
       "    <tr style=\"text-align: right;\">\n",
       "      <th></th>\n",
       "      <th>Age</th>\n",
       "      <th>Income</th>\n",
       "    </tr>\n",
       "  </thead>\n",
       "  <tbody>\n",
       "    <tr>\n",
       "      <th>Age</th>\n",
       "      <td>1.00</td>\n",
       "      <td>0.16</td>\n",
       "    </tr>\n",
       "    <tr>\n",
       "      <th>Income</th>\n",
       "      <td>0.16</td>\n",
       "      <td>1.00</td>\n",
       "    </tr>\n",
       "  </tbody>\n",
       "</table>\n",
       "</div>"
      ],
      "text/plain": [
       "         Age  Income\n",
       "Age     1.00    0.16\n",
       "Income  0.16    1.00"
      ]
     },
     "execution_count": 113,
     "metadata": {},
     "output_type": "execute_result"
    }
   ],
   "source": [
    "cormat = df.corr()\n",
    "round(cormat,2)"
   ]
  },
  {
   "cell_type": "code",
   "execution_count": 114,
   "id": "c43726ca",
   "metadata": {},
   "outputs": [
    {
     "data": {
      "image/png": "[encoded data removed]",
      "text/plain": [
       "<Figure size 432x288 with 2 Axes>"
      ]
     },
     "metadata": {
      "needs_background": "light"
     },
     "output_type": "display_data"
    }
   ],
   "source": [
    "sns.heatmap(cormat);"
   ]
  },
  {
   "cell_type": "code",
   "execution_count": 115,
   "id": "4b11d99e",
   "metadata": {},
   "outputs": [
    {
     "data": {
      "image/png": "[encoded data removed]",
      "text/plain": [
       "<Figure size 432x288 with 2 Axes>"
      ]
     },
     "metadata": {
      "needs_background": "light"
     },
     "output_type": "display_data"
    }
   ],
   "source": [
    "corr = df.corr()\n",
    "ax = sns.heatmap(\n",
    "    corr, \n",
    "    vmin=-1, vmax=1, center=0,\n",
    "    cmap=sns.diverging_palette(20, 220, n=200),\n",
    "    square=True\n",
    ")\n",
    "ax.set_xticklabels(\n",
    "    ax.get_xticklabels(),\n",
    "    rotation=45,\n",
    "    horizontalalignment='right'\n",
    ");"
   ]
  },
  {
   "cell_type": "code",
   "execution_count": null,
   "id": "ea0a006c",
   "metadata": {},
   "outputs": [],
   "source": []
  }
 ],
 "metadata": {
  "kernelspec": {
   "display_name": "Python 3 (ipykernel)",
   "language": "python",
   "name": "python3"
  },
  "language_info": {
   "codemirror_mode": {
    "name": "ipython",
    "version": 3
   },
   "file_extension": ".py",
   "mimetype": "text/x-python",
   "name": "python",
   "nbconvert_exporter": "python",
   "pygments_lexer": "ipython3",
   "version": "3.9.12"
  }
 },
 "nbformat": 4,
 "nbformat_minor": 5
}
